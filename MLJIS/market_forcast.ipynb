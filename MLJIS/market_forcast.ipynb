{
 "cells": [
  {
   "cell_type": "code",
   "execution_count": 4,
   "id": "ea6e3fbe3993322b",
   "metadata": {
    "ExecuteTime": {
     "end_time": "2025-04-09T03:38:47.348463Z",
     "start_time": "2025-04-09T03:38:47.282441Z"
    }
   },
   "outputs": [
    {
     "ename": "ModuleNotFoundError",
     "evalue": "No module named 'tabulate'",
     "output_type": "error",
     "traceback": [
      "\u001b[31m---------------------------------------------------------------------------\u001b[39m",
      "\u001b[31mModuleNotFoundError\u001b[39m                       Traceback (most recent call last)",
      "\u001b[36mCell\u001b[39m\u001b[36m \u001b[39m\u001b[32mIn[4]\u001b[39m\u001b[32m, line 4\u001b[39m\n\u001b[32m      2\u001b[39m \u001b[38;5;28;01mimport\u001b[39;00m \u001b[34;01mnumpy\u001b[39;00m \u001b[38;5;28;01mas\u001b[39;00m \u001b[34;01mnp\u001b[39;00m\n\u001b[32m      3\u001b[39m \u001b[38;5;28;01mfrom\u001b[39;00m \u001b[34;01mxgboost\u001b[39;00m \u001b[38;5;28;01mimport\u001b[39;00m XGBRegressor\n\u001b[32m----> \u001b[39m\u001b[32m4\u001b[39m \u001b[38;5;28;01mfrom\u001b[39;00m \u001b[34;01mtabulate\u001b[39;00m \u001b[38;5;28;01mimport\u001b[39;00m tabulate\n\u001b[32m      5\u001b[39m \u001b[38;5;28;01mdef\u001b[39;00m \u001b[34mload_and_prepare_data\u001b[39m():\n\u001b[32m      6\u001b[39m     \u001b[38;5;66;03m# Load and combine data\u001b[39;00m\n\u001b[32m      7\u001b[39m     data1 = pd.read_csv(\u001b[33m\"\u001b[39m\u001b[33mOhio GDP 2021 new.csv\u001b[39m\u001b[33m\"\u001b[39m).apply(\u001b[38;5;28;01mlambda\u001b[39;00m x: x.str.strip() \u001b[38;5;28;01mif\u001b[39;00m x.dtype == \u001b[33m\"\u001b[39m\u001b[33mobject\u001b[39m\u001b[33m\"\u001b[39m \u001b[38;5;28;01melse\u001b[39;00m x)\n",
      "\u001b[31mModuleNotFoundError\u001b[39m: No module named 'tabulate'"
     ]
    }
   ],
   "source": [
    "import pandas as pd\n",
    "import numpy as np\n",
    "from xgboost import XGBRegressor\n",
    "from tabulate import tabulate\n",
    "def load_and_prepare_data():\n",
    "    # Load and combine data\n",
    "    data1 = pd.read_csv(\"Ohio GDP 2021 new.csv\").apply(lambda x: x.str.strip() if x.dtype == \"object\" else x)\n",
    "    data2 = pd.read_csv(\"ohio GDP 2022 New.csv\").apply(lambda x: x.str.strip() if x.dtype == \"object\" else x)\n",
    "    data3 = pd.read_csv(\"Ohio GDP 2023new.csv\").apply(lambda x: x.str.strip() if x.dtype == \"object\" else x)\n",
    "    data4 = pd.read_csv(\"Ohio GDP 2024N.csv\").apply(lambda x: x.str.strip() if x.dtype == \"object\" else x)\n",
    "\n",
    "    df = pd.concat([data1, data2, data3, data4], ignore_index=True)\n",
    "\n",
    "    # Clean column names\n",
    "    df.columns = df.columns.str.strip()\n",
    "\n",
    "    # Unpivot the data to long format\n",
    "    df_long = df.melt(id_vars=['Description'],\n",
    "                      value_vars=[\n",
    "                          '2021:Q1', '2021:Q2', '2021:Q3', '2021:Q4',\n",
    "                          '2022:Q1', '2022:Q2', '2022:Q3', '2022:Q4',\n",
    "                          '2023:Q1', '2023:Q2', '2023:Q3', '2023:Q4',\n",
    "                          '2024:Q1', '2024:Q2', '2024:Q3', '2024:Q4'],\n",
    "                      var_name='Quarter',\n",
    "                      value_name='Value')\n",
    "\n",
    "    # Drop rows where Value is missing\n",
    "    df_long = df_long.dropna(subset=['Value'])\n",
    "\n",
    "    # Split 'Quarter' into 'Year' and 'Quarter_Label'\n",
    "    df_long[['Year', 'Quarter_Label']] = df_long['Quarter'].str.split(':', expand=True)\n",
    "    df_long['Year'] = df_long['Year'].astype(int)\n",
    "\n",
    "    # Rename 'Value' to 'GDP'\n",
    "    df_long = df_long.rename(columns={'Value': 'GDP'})\n",
    "\n",
    "    # Drop 'Quarter' and 'Date' columns since they're not needed\n",
    "    df_long = df_long.drop(columns=['Quarter'])\n",
    "\n",
    "    # Sort and return final cleaned dataframe\n",
    "    return df_long.sort_values(['Description', 'Year', 'Quarter_Label'])\n",
    "\n",
    "# Call the function and store the result\n",
    "df_long = load_and_prepare_data()\n",
    "# Pivot so each Description is a row, and each Year+Quarter is a column\n",
    "pivoted_df = df_long.pivot(index='Description', columns=['Year', 'Quarter_Label'], values='GDP')\n",
    "\n",
    "# Optional: sort columns for cleaner view\n",
    "pivoted_df = pivoted_df.sort_index(axis=1, level=[0,1])  # Sort by Year then Quarter\n",
    "\n",
    "# Print top few rows\n",
    "print(tabulate(pivoted_df.head(5), headers='keys', tablefmt='grid'))\n",
    "\n",
    "\n"
   ]
  },
  {
   "cell_type": "code",
   "execution_count": null,
   "id": "7ca8f007e5b39bcc",
   "metadata": {
    "ExecuteTime": {
     "end_time": "2025-04-09T03:48:45.379554Z",
     "start_time": "2025-04-09T03:48:45.028550Z"
    }
   },
   "outputs": [],
   "source": [
    "# ==== Filter for one industry ====\n",
    "industry_df = df_long[df_long['Description'] == 'All industry total'].copy()\n",
    "industry_df = industry_df.sort_values(['Year', 'Quarter_Label'])\n",
    "\n",
    "# Optional: convert Quarter_Label to a number for modeling\n",
    "quarter_map = {'Q1': 1, 'Q2': 2, 'Q3': 3, 'Q4': 4}\n",
    "industry_df['Quarter_Num'] = industry_df['Quarter_Label'].map(quarter_map)\n",
    "\n",
    "# Create a time index and target\n",
    "industry_df['Time_Index'] = np.arange(len(industry_df))\n",
    "industry_df['target'] = industry_df['GDP'].shift(-1)\n",
    "industry_df = industry_df.dropna()\n",
    "\n",
    "# ==== Supervised learning data ====\n",
    "features = ['Time_Index', 'Quarter_Num']  # Numeric features only\n",
    "X = industry_df[features].values\n",
    "y = industry_df['target'].values\n",
    "\n",
    "# ==== Train/test split ====\n",
    "def train_test_split(X, y, test_size=0.2):\n",
    "    n = int(len(X) * (1 - test_size))\n",
    "    return X[:n], X[n:], y[:n], y[n:]\n",
    "\n",
    "X_train, X_test, y_train, y_test = train_test_split(X, y, test_size=0.2)\n",
    "\n",
    "# ==== Train XGBoost model ====\n",
    "model = XGBRegressor(objective='reg:squarederror', n_estimators=1000)\n",
    "model.fit(X_train, y_train)\n",
    "\n",
    "# ==== Make prediction ====\n",
    "val = X_test[0].reshape(1, -1)\n",
    "pred = model.predict(val)\n",
    "print(f\"Predicted GDP: {pred[0]}\")\n",
    "\n",
    "# predict train on train set and predic one sample at a time\n",
    "\n",
    "def xgb_predict(train, val):\n",
    "    train = np.array(train)\n",
    "    X, y = train[:, :-1], train[:, -1]\n",
    "    model = XGBRegressor(objective='reg:squarederror', n_estimators=1000)\n",
    "    model.fit(X, y)\n",
    "\n",
    "    val = np.array(val).reshape(1, -1)\n",
    "    pred = model.predict(val)\n",
    "    return pred[0]\n",
    "\n",
    "train = np.column_stack((X_train, y_train))\n",
    "test_sample = X_test[0]\n",
    "print(xgb_predict(train, test_sample))\n"
   ]
  }
 ],
 "metadata": {
  "kernelspec": {
   "display_name": "Python 3",
   "language": "python",
   "name": "python3"
  },
  "language_info": {
   "codemirror_mode": {
    "name": "ipython",
    "version": 3
   },
   "file_extension": ".py",
   "mimetype": "text/x-python",
   "name": "python",
   "nbconvert_exporter": "python",
   "pygments_lexer": "ipython3",
   "version": "3.13.1"
  }
 },
 "nbformat": 4,
 "nbformat_minor": 5
}
